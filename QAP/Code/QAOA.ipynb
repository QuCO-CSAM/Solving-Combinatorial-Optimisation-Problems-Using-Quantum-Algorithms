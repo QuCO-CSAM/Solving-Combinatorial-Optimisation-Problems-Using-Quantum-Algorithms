{
 "cells": [
  {
   "cell_type": "markdown",
   "metadata": {},
   "source": [
    "# QAOA for the QAP"
   ]
  },
  {
   "cell_type": "code",
   "execution_count": null,
   "metadata": {},
   "outputs": [],
   "source": [
    "#INITIALISATION CELL\n",
    "import qiskit\n",
    "from qiskit import Aer\n",
    "from qiskit.aqua.algorithms import QAOA\n",
    "from qiskit.aqua.components.optimizers import SPSA, COBYLA\n",
    "from qiskit.circuit.library import RealAmplitudes,TwoLocal #(uses CX entangling) \n",
    "from qiskit.aqua import QuantumInstance\n",
    "\n",
    "from docplex.mp.model import Model\n",
    "from qiskit.optimization import QuadraticProgram\n",
    "from qiskit.optimization.applications.ising import docplex\n",
    "\n",
    "# setup aqua logging\n",
    "import logging\n",
    "from qiskit.aqua import set_qiskit_aqua_logging\n",
    "# set_qiskit_aqua_logging(logging.DEBUG)  # choose INFO, DEBUG to see the log\n",
    "\n",
    "# useful additional packages \n",
    "%matplotlib inline\n",
    "import numpy as np\n",
    "import pandas as pd\n",
    "import math"
   ]
  },
  {
   "cell_type": "markdown",
   "metadata": {},
   "source": [
    "Important prelim functions"
   ]
  },
  {
   "cell_type": "code",
   "execution_count": null,
   "metadata": {},
   "outputs": [],
   "source": [
    "def CSVtoNumpyArray(rawdata):\n",
    "    \"\"\"\n",
    "    Input: \n",
    "    rawdata = a csv file (insert name as a string)\n",
    "\n",
    "    Output:\n",
    "    two numpy matrices in a tuple\n",
    "    \"\"\"\n",
    "    data = pd.read_csv(rawdata)  #Reads the data in as a pandas object\n",
    "    c = data.columns\n",
    "    column = int(c[0])\n",
    "    final_data1 = data.iloc[:column,:].values  #Sets data into a series of numpy arrays of strings\n",
    "    final_data2 = data.iloc[column:,:].values  #1 is for the first matrix(loc) and 2 is for the second(flow)\n",
    "    \n",
    "\n",
    "    #Forms the matrix as a numpy array (easier to work with) instead of an list of lists of strings\n",
    "    def string_to_integers(final_data):\n",
    "        matrix = []\n",
    "        for j in range(column):\n",
    "            string = final_data[j][0]\n",
    "            string2 = string.split(\" \")\n",
    "            emptyarray = []\n",
    "            for i in string2:\n",
    "                if i != '':\n",
    "                    emptyarray.append(int(i))\n",
    "            matrix.append(emptyarray)\n",
    "        npmatrix = np.array(matrix) \n",
    "        return npmatrix\n",
    "    return string_to_integers(final_data1),string_to_integers(final_data2)"
   ]
  },
  {
   "cell_type": "code",
   "execution_count": null,
   "metadata": {},
   "outputs": [],
   "source": [
    "def qap_value(z, MatrixLoc, MatrixFlow):\n",
    "    \"\"\"\n",
    "    Input:\n",
    "    z (list[int]): list of allocations\n",
    "    MatrixLoc (numpy array): matrix of distances\n",
    "    MatrixFlow (numpy array): matrix of flow\n",
    "    \n",
    "    Output:\n",
    "    float: value of the QAP\n",
    "    \"\"\"\n",
    "    matrix_length = len(MatrixLoc)\n",
    "    x = np.reshape(z, (matrix_length,matrix_length))\n",
    "    \n",
    "    total = 0\n",
    "    for i in range(matrix_length):\n",
    "        for j in range(matrix_length):\n",
    "            for k in range(matrix_length):\n",
    "                for p in range(matrix_length):\n",
    "                        total += MatrixLoc[i,j]* MatrixFlow[k,p]*x[i,k]*x[j,p]\n",
    "    \n",
    "    return total"
   ]
  },
  {
   "cell_type": "markdown",
   "metadata": {},
   "source": [
    "Feasibility functions"
   ]
  },
  {
   "cell_type": "code",
   "execution_count": null,
   "metadata": {},
   "outputs": [],
   "source": [
    "def qap_feasible(x):\n",
    "    \"\"\"\n",
    "    Input:\n",
    "    x (numpy.ndarray) : binary string as numpy array.\n",
    "\n",
    "    Output:\n",
    "    bool: feasible or not.\n",
    "    \"\"\"\n",
    "    n = int(np.sqrt(len(x)))\n",
    "    y = np.reshape(x, (n,n))\n",
    "   \n",
    "    for i in range(n):\n",
    "        if sum(y[i, p] for p in range(n)) != 1:\n",
    "            return False\n",
    "    for p__ in range(n):\n",
    "        if sum(y[i, p__] for i in range(n)) != 1:\n",
    "            return False\n",
    "    return True"
   ]
  },
  {
   "cell_type": "code",
   "execution_count": null,
   "metadata": {},
   "outputs": [],
   "source": [
    "def choose_best_feasible(eigenstates):\n",
    "    \"\"\"\n",
    "    Input:\n",
    "    eigenstates = dictionary\n",
    "    \n",
    "    Output:\n",
    "    feasible binary 1D numpyarray\n",
    "    probability of this answer\n",
    "    \"\"\"\n",
    "    bestinarray = sorted(eigenstates.items(), key=lambda item: item[1])[::-1]\n",
    "    feasible = False\n",
    "    counter = 0\n",
    "    total = sum(eigenstates.values())\n",
    "    \n",
    "    feasible=False\n",
    "    while feasible==False and counter<len(bestinarray):\n",
    "        #string to array\n",
    "        bestasint = np.array([0])\n",
    "        for i in bestinarray[counter][0]:\n",
    "            bestasint = np.hstack((bestasint, int(i)))\n",
    "        feasible = qap_feasible(bestasint[1:])\n",
    "        frequency = bestinarray[counter][1]\n",
    "        counter += 1\n",
    "        \n",
    "    if feasible == False:\n",
    "        return feasible\n",
    "    else:\n",
    "        return bestasint[1:], frequency/total"
   ]
  },
  {
   "cell_type": "markdown",
   "metadata": {},
   "source": [
    "## The QAOA function"
   ]
  },
  {
   "cell_type": "code",
   "execution_count": null,
   "metadata": {},
   "outputs": [],
   "source": [
    "def testing_quantum(machine, ins, SPtrial, SHOT, optimal_point):\n",
    "    \"\"\"\n",
    "    Input:\n",
    "    machine: the name of available machine\n",
    "    ins: the QAP instance\n",
    "    SPtrial: max_trials for SPSA \n",
    "    SHOT: number of shots\n",
    "    optimal_point: numpy array of optimal points from simulator\n",
    "    \n",
    "    Output:\n",
    "    outmatrix: 30 * [eigensolution value, time, feasibility]\n",
    "    (outfile \"thirty_trials-<machine name>-<instance name>.csv\")\n",
    "    \"\"\"\n",
    "    \n",
    "    #get matrix\n",
    "    datamatrix = CSVtoNumpyArray(ins)\n",
    "    MatrixLoc = datamatrix[0]\n",
    "    MatrixFlow = datamatrix[1]\n",
    "    n = len(MatrixLoc)\n",
    "\n",
    "    # Create an instance of a model and variables.\n",
    "    thename = \"qap\" + str(n)\n",
    "    mdl = Model(name=thename)\n",
    "    x = {(i,p): mdl.binary_var(name='x_{0}_{1}'.format(i,p)) for i in range(n) for p in range(n)}\n",
    "\n",
    "    # Object function\n",
    "    qap_func = mdl.sum(MatrixLoc[i,j]* MatrixFlow[k,p]*x[i,k]*x[j,p] \n",
    "                       for i in range(n) for j in range(n) for p in range(n) for k in range(n))\n",
    "    mdl.minimize(qap_func)\n",
    "\n",
    "    # Constraints\n",
    "    for i in range(n):\n",
    "        mdl.add_constraint(mdl.sum(x[(i,p)] for p in range(n)) == 1)\n",
    "    for p in range(n):\n",
    "        mdl.add_constraint(mdl.sum(x[(i,p)] for i in range(n)) == 1)\n",
    "    print(mdl.export_to_string())\n",
    "    qubitOp_docplex, offset_docplex = docplex.get_operator(mdl) \n",
    "\n",
    "    #Setup QAOA\n",
    "    seed = 10598\n",
    "    spsa = SPSA(maxiter=SPtrial)\n",
    "    print('num of qubits; ', qubitOp_docplex.num_qubits)\n",
    "    \n",
    "    #30 trials\n",
    "    file = open(\"thirty_trials-\" + str(machine) + \"-\" + str(ins) ,\"w\")\n",
    "    file.write(\"value,   feasible,   frequency, time, iteration\" + \"\\n\")\n",
    "    ans = np.zeros(5)\n",
    "    for i in range(30):\n",
    "        try:\n",
    "            #backend = Aer.get_backend(machine)\n",
    "            backend = provider.get_backend(machine)\n",
    "            quantum_instance = QuantumInstance(backend=backend,seed_simulator=seed, seed_transpiler=seed, \n",
    "                                               skip_qobj_validation = False, shots = SHOT)\n",
    "            qaoa = QAOA(qubitOp_docplex,optimizer=spsa, p=j, quantum_instance=quantum_instance,include_custom=True)\n",
    "            result = qaoa.run(quantum_instance)\n",
    "\n",
    "            #Output processing\n",
    "            print(' Eigenstate:', result['eigenstate'])\n",
    "            print('QAOA time:', result['optimizer_time'])\n",
    "            n = len(list(result['eigenstate'].values()))\n",
    "            solution = np.hstack((np.array(list(result['eigenstate'].values())).reshape(n,1),\n",
    "                                  np.array(list(result['eigenstate'].keys())).reshape(n,1)))\n",
    "            print(solution)\n",
    "            for r in solution:\n",
    "                file.write(str(qap_value(np.array(list(r[1])),MatrixFlow,MatrixLoc)) + \",\" + \n",
    "                           str(qap_feasible(np.array(list(r[1])))) + \",\" + str(r[0]) + \",\"+ \n",
    "                           str(result['optimizer_time']) + \",\" + str(i) + \"\\n\")\n",
    "                ans = np.vstack((ans,np.array([qap_value(np.array(list(r[1])),MatrixFlow,MatrixLoc),\n",
    "                                               qap_feasible(np.array(list(r[1]))),float(r[0]),result['optimizer_time'],i])))\n",
    "        except:\n",
    "            file.write(\"An error occurred on iteration \" + str(i) + \" of the 30 trials\")\n",
    "            print(\"AN ERROR OCCURRED ON ITERATION\" + str(i) + \" of the 30 trials\")\n",
    "            ans = np.vstack((ans,np.array([math.inf,False,0,np.nan,i])))\n",
    "        print(\"Iteration \"+ str(i) + \" is complete.\")\n",
    "    file.close()\n",
    "    return ans[1:] "
   ]
  },
  {
   "cell_type": "code",
   "execution_count": null,
   "metadata": {},
   "outputs": [],
   "source": [
    "def read_optimal(ins):\n",
    "    data = pd.read_csv(\"initial_point-\" + str(ins),header = None)\n",
    "    n = len(data[0]) - 1\n",
    "    ans = []\n",
    "    data[0][0] = data[0][0][1:]\n",
    "    data[0][n] = data[0][n][:-1]\n",
    "    for i in data[0]:\n",
    "        r = i.split(\" \")\n",
    "        for t in r:\n",
    "            if t!='':\n",
    "                ans.append(float(t))\n",
    "    return np.array(ans)"
   ]
  },
  {
   "cell_type": "markdown",
   "metadata": {},
   "source": [
    "# The main cells"
   ]
  },
  {
   "cell_type": "markdown",
   "metadata": {},
   "source": [
    "These are the cells running solutions"
   ]
  },
  {
   "cell_type": "code",
   "execution_count": null,
   "metadata": {},
   "outputs": [],
   "source": [
    "#3 by 3 thirty trials\n",
    "\n",
    "import logging\n",
    "logging.basicConfig(level=logging.DEBUG) # log the steps of the algorithm and results\n",
    "import warnings\n",
    "warnings.filterwarnings(\"ignore\", category=DeprecationWarning) \n",
    "machines = 'ibmq_cambridge'\n",
    "instances = \"made3.csv\"\n",
    "optimal_point = read_optimal(instances)\n",
    "ans = testing_quantum(machines, instances, 1, 1024,optimal_point)"
   ]
  },
  {
   "cell_type": "code",
   "execution_count": null,
   "metadata": {},
   "outputs": [],
   "source": [
    "#4 by 4 thirty trials\n",
    "\n",
    "import logging\n",
    "logging.basicConfig(level=logging.DEBUG) # log the steps of the algorithm and results\n",
    "import warnings\n",
    "warnings.filterwarnings(\"ignore\", category=DeprecationWarning) \n",
    "machines = 'ibmq_cambridge'\n",
    "instances = \"made4.csv\"\n",
    "optimal_point = read_optimal(instances)\n",
    "ans4 = testing_quantum(machines, instances, 1, 1024,optimal_point)"
   ]
  },
  {
   "cell_type": "code",
   "execution_count": null,
   "metadata": {},
   "outputs": [],
   "source": [
    "qiskit.__qiskit_version__"
   ]
  }
 ],
 "metadata": {
  "kernelspec": {
   "display_name": "Python 3",
   "language": "python",
   "name": "python3"
  },
  "language_info": {
   "codemirror_mode": {
    "name": "ipython",
    "version": 3
   },
   "file_extension": ".py",
   "mimetype": "text/x-python",
   "name": "python",
   "nbconvert_exporter": "python",
   "pygments_lexer": "ipython3",
   "version": "3.6.10"
  }
 },
 "nbformat": 4,
 "nbformat_minor": 2
}
